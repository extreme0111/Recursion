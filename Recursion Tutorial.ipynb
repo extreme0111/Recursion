{
  "cells": [
    {
      "cell_type": "markdown",
      "id": "97b0fa7e",
      "metadata": {
        "id": "97b0fa7e"
      },
      "source": [
        "### Power of p\n",
        "\n",
        "Given an integer `n` and p, return the n to the power of `p`."
      ]
    },
    {
      "cell_type": "code",
      "execution_count": null,
      "id": "4936ad00",
      "metadata": {
        "colab": {
          "base_uri": "https://localhost:8080/"
        },
        "id": "4936ad00",
        "outputId": "211af8a2-6a1e-4d6f-d7ba-61faa4809057"
      },
      "outputs": [
        {
          "output_type": "stream",
          "name": "stdout",
          "text": [
            "3\n",
            "9\n"
          ]
        },
        {
          "output_type": "execute_result",
          "data": {
            "text/plain": [
              "9"
            ]
          },
          "metadata": {},
          "execution_count": 11
        }
      ],
      "source": [
        "n = 3\n",
        "p = 2\n",
        "\n",
        "def powerof(n,p):\n",
        "  result = 1\n",
        "  for i in range(p):\n",
        "    result *= n\n",
        "  return result\n",
        "\n",
        "powerof(n,p)"
      ]
    },
    {
      "cell_type": "code",
      "source": [
        "n = 3\n",
        "p = 2\n",
        "\n",
        "def powerof(n,p):\n",
        "  result = 1\n",
        "  if p == 1:\n",
        "    return n\n",
        "  return powerof(n,p-1) * n\n",
        "\n",
        "#n^3 = n(n(n)) = nsq(n)\n",
        "#n(n) = nsq\n",
        "#n^4 = nsq(n)(n)\n",
        "powerof(n,p)\n",
        "#n^4 = n^3 * n\n",
        "#n ^3 = n^2 * n\n",
        "#n ^ 2 = n^1 * n\n",
        "#n^p = n^p-1 * n"
      ],
      "metadata": {
        "colab": {
          "base_uri": "https://localhost:8080/"
        },
        "id": "o_F1Qk2Aw36q",
        "outputId": "be8be2df-3668-449d-d714-8ed3dd615a45"
      },
      "id": "o_F1Qk2Aw36q",
      "execution_count": null,
      "outputs": [
        {
          "output_type": "execute_result",
          "data": {
            "text/plain": [
              "9"
            ]
          },
          "metadata": {},
          "execution_count": 16
        }
      ]
    },
    {
      "cell_type": "markdown",
      "id": "d51c6b2d",
      "metadata": {
        "id": "d51c6b2d"
      },
      "source": [
        "### Fibonacci\n",
        "\n",
        "The Fibonacci numbers, commonly denoted `F(n)` form a sequence, called the Fibonacci sequence, such that each number is the sum of the two preceding ones, starting from 0 and 1. That is,\n",
        "\n",
        "```\n",
        "F(0) = 0, F(1) = 1\n",
        "F(n) = F(n - 1) + F(n - 2), for n > 1.\n",
        "```\n",
        "Given `n`, calculate `F(n)`.\n",
        "\n",
        "**Constraints:** `0 <= n <= 30`\n",
        "\n",
        "Example 1:\n",
        "```\n",
        "Input: n = 2\n",
        "Output: 1\n",
        "Explanation: F(2) = F(1) + F(0) = 1 + 0 = 1.\n",
        "```\n",
        "Example 2:\n",
        "```\n",
        "Input: n = 3\n",
        "Output: 2\n",
        "Explanation: F(3) = F(2) + F(1) = 1 + 1 = 2.\n",
        "```"
      ]
    },
    {
      "cell_type": "code",
      "execution_count": null,
      "id": "c4bf606a",
      "metadata": {
        "colab": {
          "base_uri": "https://localhost:8080/"
        },
        "id": "c4bf606a",
        "outputId": "8151af96-3d25-48b3-9aff-c9fcf1210e9b"
      },
      "outputs": [
        {
          "output_type": "execute_result",
          "data": {
            "text/plain": [
              "5"
            ]
          },
          "metadata": {},
          "execution_count": 21
        }
      ],
      "source": [
        "n = 5\n",
        "def F(n):\n",
        "  if n <= 1:\n",
        "    return n\n",
        "  return F(n-1) + F(n-2)\n",
        "\n",
        "#0 1 1 2 3 5 8 13 21\n",
        "F(n)\n",
        "#F(n) =\n",
        "#5th = 3\n",
        "#6th = 5\n",
        "#7th = 8\n",
        "#8th = 13"
      ]
    },
    {
      "cell_type": "markdown",
      "id": "cd43c0d1",
      "metadata": {
        "id": "cd43c0d1"
      },
      "source": [
        "### Elimination Game\n",
        "You have a list `arr` of all integers in the range `[1, n]` sorted in a strictly increasing order. Apply the following algorithm on arr:\n",
        "\n",
        "Starting from left to right, remove the first number and every other number afterward until you reach the end of the list.\n",
        "\n",
        "Repeat the previous step again, but this time from right to left, remove the rightmost number and every other number from the remaining numbers.\n",
        "\n",
        "Keep repeating the steps again, alternating left to right and right to left, until a single number remains.\n",
        "Given the integer `n`, return the last number that remains in `arr`.\n",
        "\n",
        "Example 1:\n",
        "```\n",
        "Input: n = 9\n",
        "Output: 6\n",
        "Explanation:\n",
        "arr = [1, 2, 3, 4, 5, 6, 7, 8, 9]\n",
        "arr = [2, 4, 6, 8]\n",
        "arr = [2, 6]\n",
        "arr = [6]\n",
        "```\n",
        "Example 2:\n",
        "```\n",
        "Input: n = 1\n",
        "Output: 1\n",
        "```"
      ]
    },
    {
      "cell_type": "code",
      "execution_count": null,
      "id": "d34a3ad1",
      "metadata": {
        "id": "d34a3ad1"
      },
      "outputs": [],
      "source": [
        "n = 200\n",
        "\n",
        "def arr(n):\n",
        "  arrayy = []\n",
        "  for i in range(n+1):\n",
        "    if i == 0:\n",
        "      continue\n",
        "    arrayy.append(i)\n",
        "  while len(arrayy) > 1:\n",
        "    counter = 0\n",
        "    if n % 2 == 0:\n",
        "      for j in range(roundup(len(arrayy)/2)):\n",
        "        if len(arrayy) == 1:\n",
        "          break\n",
        "        else:\n",
        "          arrayy.pop(j)\n",
        "    else:\n",
        "      for j in range(roundup(len(arrayy)/2)):\n",
        "        if len(arrayy) == 1:\n",
        "          break\n",
        "        else:\n",
        "          print(j)\n",
        "          print(arrayy)\n",
        "          arrayy.pop(j)\n",
        "    for k in range(int(len(arrayy)-1), -1, -2):\n",
        "      if len(arrayy) == 1:\n",
        "          break\n",
        "      else:\n",
        "        print(arrayy, 'games')\n",
        "        print(k, 'games')\n",
        "        arrayy.pop(k)\n",
        "  return arrayy\n",
        "\n",
        "def roundup(n):\n",
        "  n=n+0.5\n",
        "  return int(n)\n",
        "\n",
        "arr(n)"
      ]
    },
    {
      "cell_type": "code",
      "source": [
        "n = 25\n",
        "\n",
        "def start(n):\n",
        "  return arrlr(n)\n",
        "def arrrl(n):\n",
        "  if n == 1:\n",
        "    return n\n",
        "  if n % 2 == 0:\n",
        "    return 2 * arrlr(n//2) - 1\n",
        "  else:\n",
        "    return 2 * arrlr(n//2)\n",
        "def arrlr(n):\n",
        "  if n == 1:\n",
        "    return n\n",
        "  return 2 * arrrl(n//2)\n",
        "print(start(n))\n",
        "\n",
        "#its not giving me the answer, its just giving 1 cause n is 1 and im returning n\n",
        "#fix!"
      ],
      "metadata": {
        "colab": {
          "base_uri": "https://localhost:8080/"
        },
        "id": "s3Q6L91QAOQx",
        "outputId": "7dd9eea4-f157-45a0-f519-1ae53824ade3"
      },
      "id": "s3Q6L91QAOQx",
      "execution_count": null,
      "outputs": [
        {
          "output_type": "stream",
          "name": "stdout",
          "text": [
            "14\n"
          ]
        }
      ]
    }
  ],
  "metadata": {
    "kernelspec": {
      "display_name": "Python 3 (ipykernel)",
      "language": "python",
      "name": "python3"
    },
    "language_info": {
      "codemirror_mode": {
        "name": "ipython",
        "version": 3
      },
      "file_extension": ".py",
      "mimetype": "text/x-python",
      "name": "python",
      "nbconvert_exporter": "python",
      "pygments_lexer": "ipython3",
      "version": "3.8.9"
    },
    "colab": {
      "provenance": []
    }
  },
  "nbformat": 4,
  "nbformat_minor": 5
}