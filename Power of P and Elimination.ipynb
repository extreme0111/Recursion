{
  "cells": [
    {
      "cell_type": "markdown",
      "id": "2294c416",
      "metadata": {
        "id": "2294c416"
      },
      "source": [
        "## Must write Pseudocode first\n",
        "## then, write code\n",
        "## (optional) to write non-recursive code first"
      ]
    },
    {
      "cell_type": "markdown",
      "id": "4cea366b",
      "metadata": {
        "id": "4cea366b"
      },
      "source": [
        "### Least Common Multiple (LCM) of 2 Numbers\n",
        "\n",
        "Write the function `LCM(a, b)` returning the least common multiple (LCM) of a number i.e. the smallest number that is the product of two or more numbers."
      ]
    },
    {
      "cell_type": "code",
      "execution_count": null,
      "id": "ef50e6b4",
      "metadata": {
        "colab": {
          "base_uri": "https://localhost:8080/"
        },
        "id": "ef50e6b4",
        "outputId": "b876e046-7d33-4820-d64a-70d6775bc375"
      },
      "outputs": [
        {
          "output_type": "execute_result",
          "data": {
            "text/plain": [
              "15.0"
            ]
          },
          "metadata": {},
          "execution_count": 7
        }
      ],
      "source": [
        "from typing_extensions import Counter\n",
        "#LCM(a,b)\n",
        "#make a counter, start from 2\n",
        "#while true, var equals a times counter\n",
        "#if var / b equals whole number, return var\n",
        "#else, counter += 1, continue\n",
        "\n",
        "def LCM(a,b):\n",
        "  counter = 1\n",
        "  var = 0\n",
        "  while True:\n",
        "    var = a*counter\n",
        "    if var % b == 0:\n",
        "      return var\n",
        "    else:\n",
        "      counter += 1\n",
        "      continue\n",
        "\n",
        "#LCM(100, 200)\n",
        "\n",
        "#LCM(a,b)\n",
        "#stop condition: if var % b == 0\n",
        "#basecase: multiplies a by an increasing counter, that increases by 1 every recursion\n",
        "\n",
        "#LCM(a,b,var,counter)\n",
        "  #if var % b == 0, return var\n",
        "  #var equals a times counter\n",
        "    #counter += 1\n",
        "    #LCM(a,b,var,counter)\n",
        "\n",
        "# def caller(a,b):\n",
        "#   counter = 1\n",
        "#   print(LCM(b,a,counter))\n",
        "\n",
        "def LCM(b,a,counter):\n",
        "  if a*counter % b == 0:\n",
        "    return a*counter\n",
        "  counter += 1\n",
        "  return LCM(b,a,counter)\n",
        "\n",
        "#try to create a LCM recursion function that only uses a and b (no var and counter)\n",
        "\n",
        "#LCM\n",
        "#a % b == something\n",
        "#n = b - something\n",
        "#LCM = a + n\n",
        "\n",
        "def LCM(a, b):\n",
        "  t = a % b\n",
        "  print(t)\n",
        "  if t == 0:\n",
        "        return a\n",
        "  return a * LCM(b, t) / t\n",
        "\n",
        "#caller(10,7)\n",
        "LCM(5,3)"
      ]
    },
    {
      "cell_type": "markdown",
      "id": "259e27d5",
      "metadata": {
        "id": "259e27d5"
      },
      "source": [
        "### Reverse a string\n",
        "\n",
        "Write the function `reverse(string)` that reverses the original string, i.e., modifying the original string and arranging it in a reverse manner.\n",
        "\n",
        "\n",
        "Example 1:\n",
        "```\n",
        "Input: n = 'Desserts'\n",
        "Output: stresseD\n",
        "```"
      ]
    },
    {
      "cell_type": "code",
      "execution_count": null,
      "id": "13268cd4",
      "metadata": {
        "id": "13268cd4",
        "colab": {
          "base_uri": "https://localhost:8080/",
          "height": 35
        },
        "outputId": "3690544c-3cbe-40fb-beb0-273d84a91da0"
      },
      "outputs": [
        {
          "output_type": "execute_result",
          "data": {
            "text/plain": [
              "'ynnuf gnihtemos'"
            ],
            "application/vnd.google.colaboratory.intrinsic+json": {
              "type": "string"
            }
          },
          "metadata": {},
          "execution_count": 31
        }
      ],
      "source": [
        "#def reverse(string)\n",
        "#newstr = ''\n",
        "#if string empty:\n",
        "# return newstr\n",
        "#n = string.pop()\n",
        "#newstr.append(n)\n",
        "#reset n\n",
        "#reverse(string)\n",
        "\n",
        "def reverse(thread):\n",
        "  if thread == '':\n",
        "    return thread\n",
        "  return thread[-1] + reverse(thread[0:-1])\n",
        "\n",
        "\n",
        "reverse('something funny')"
      ]
    },
    {
      "cell_type": "markdown",
      "id": "68341ebe",
      "metadata": {
        "id": "68341ebe"
      },
      "source": [
        "### Pascals Triangle\n",
        "\n",
        "What is Pascals Triangle: https://en.wikipedia.org/wiki/Pascal%27s_triangle\n",
        "\n",
        "Pascal’s Triangle can be seen as the triangle of numbers where each number is the sum of the above two (except for the edges, which are all *1*)\n",
        "\n",
        "Write a function to return an array of row `n` of the Pascals Triangle.\n",
        "\n",
        "Example:\n",
        "```\n",
        "Input: n = 3\n",
        "Output: [1, 2, 1]\n",
        "```\n"
      ]
    },
    {
      "cell_type": "code",
      "execution_count": null,
      "id": "b87525e3",
      "metadata": {
        "id": "b87525e3",
        "colab": {
          "base_uri": "https://localhost:8080/"
        },
        "outputId": "851f2039-c077-46c3-8ce0-9064dc1091d0"
      },
      "outputs": [
        {
          "output_type": "stream",
          "name": "stdout",
          "text": [
            "[1, 1] nl\n",
            "[1, 2, 1] nl\n",
            "[1, 3, 3, 1] nl\n",
            "[1, 4, 6, 4, 1] nl\n",
            "[1, 5, 10, 10, 5, 1] nl\n",
            "[1, 6, 15, 20, 15, 6, 1] nl\n",
            "[1, 7, 21, 35, 35, 21, 7, 1] nl\n"
          ]
        },
        {
          "output_type": "execute_result",
          "data": {
            "text/plain": [
              "[1, 7, 21, 35, 35, 21, 7, 1]"
            ]
          },
          "metadata": {},
          "execution_count": 26
        }
      ],
      "source": [
        "#def pascal(n):\n",
        "#start with a 1\n",
        "#1 row = 1 recursion\n",
        "#each recursion, add each number with the number on their right\n",
        "#add two 1s on each end\n",
        "\n",
        "#def caller(n):\n",
        "  #start = [1]\n",
        "  #counter = 0\n",
        "  #return pascal(n,start,counter)\n",
        "\n",
        "def pascal(n,start,counter):\n",
        "  newlist = [1]\n",
        "  if n == 1:\n",
        "    return start\n",
        "  if counter == n:\n",
        "    return start\n",
        "  if counter == 0:\n",
        "    start.append(1)\n",
        "  if counter != 0:\n",
        "    for i in range(len(start)):\n",
        "      if i == len(start)-1:\n",
        "        newlist.append(1)\n",
        "        print(newlist,'nl')\n",
        "        break\n",
        "      newlist.append(start[i] + start[i+1])\n",
        "  counter += 1\n",
        "  return pascal(n,newlist,counter)\n",
        "\n",
        "\n",
        "\n",
        "pascal(8,[1],0)\n",
        "\n",
        "#1 3 3 1"
      ]
    },
    {
      "cell_type": "code",
      "source": [
        "#def pascal(n,start)\n",
        "# if n == 1:\n",
        "  #yay!\n",
        "  #return [1]\n",
        "\n",
        "\n",
        "\n",
        "#1 to n:\n",
        "#easier to find answer faster but needs more variables\n",
        "\n",
        "#n to 1:\n",
        "#requires less variables but harder to code :(\n",
        "\n",
        "def pascal(n):\n",
        "  listt = [1]\n",
        "  if n == 1:\n",
        "    return listt\n",
        "  else:\n",
        "    prev = pascal(n-1)\n",
        "    for i in range((len(prev))-1):\n",
        "      listt.append(prev[i] + prev[i+1])\n",
        "    listt.append(1)\n",
        "    return listt\n",
        "\n",
        "pascal(3)\n"
      ],
      "metadata": {
        "id": "xrKj5oA9PC4Y",
        "colab": {
          "base_uri": "https://localhost:8080/"
        },
        "outputId": "ceca7bdb-23c0-4ecd-9f5e-2bb887c516ae"
      },
      "id": "xrKj5oA9PC4Y",
      "execution_count": null,
      "outputs": [
        {
          "output_type": "execute_result",
          "data": {
            "text/plain": [
              "[1, 2, 1]"
            ]
          },
          "metadata": {},
          "execution_count": 22
        }
      ]
    }
  ],
  "metadata": {
    "kernelspec": {
      "display_name": "Python 3 (ipykernel)",
      "language": "python",
      "name": "python3"
    },
    "language_info": {
      "codemirror_mode": {
        "name": "ipython",
        "version": 3
      },
      "file_extension": ".py",
      "mimetype": "text/x-python",
      "name": "python",
      "nbconvert_exporter": "python",
      "pygments_lexer": "ipython3",
      "version": "3.9.6"
    },
    "colab": {
      "provenance": []
    }
  },
  "nbformat": 4,
  "nbformat_minor": 5
}