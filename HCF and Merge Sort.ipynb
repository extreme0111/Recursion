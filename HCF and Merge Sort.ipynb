{
  "cells": [
    {
      "cell_type": "markdown",
      "id": "25b64e92",
      "metadata": {
        "id": "25b64e92"
      },
      "source": [
        "## Must write Pseudocode first\n",
        "## then, write code\n",
        "## (optional) to write non-recursive code first"
      ]
    },
    {
      "cell_type": "markdown",
      "id": "6a0d6eed",
      "metadata": {
        "id": "6a0d6eed"
      },
      "source": [
        "### Highest Common Factor (HCF) of 2 Numbers\n",
        "\n",
        "Write the function `hcf(a, b)` returning the highest common factor i.e. the most biggest number that divides both `a` and `b`\n",
        "\n",
        "e.g. HCF of 24 and 60 = 12"
      ]
    },
    {
      "cell_type": "code",
      "execution_count": null,
      "id": "ef50e6b4",
      "metadata": {
        "id": "ef50e6b4",
        "colab": {
          "base_uri": "https://localhost:8080/"
        },
        "outputId": "940d9bc5-34b6-4d75-edfd-fe104e744ef2"
      },
      "outputs": [
        {
          "output_type": "execute_result",
          "data": {
            "text/plain": [
              "5"
            ]
          },
          "metadata": {},
          "execution_count": 4
        }
      ],
      "source": [
        "#final solution\n",
        "\n",
        "from functools import reduce\n",
        "alist = []\n",
        "blist = []\n",
        "adict = {}\n",
        "bdict = {}\n",
        "primes = [2, 3, 5, 7, 11, 13, 17, 19, 23, 29, 31, 37, 41, 43, 47, 53, 59, 61, 67, 71, 73, 79, 83, 89, 97]\n",
        "commonprimes = {}\n",
        "V1 = []\n",
        "\n",
        "def minosprime(a,b):\n",
        "  var = []\n",
        "  counter = 0\n",
        "  while a != 1:\n",
        "    if a % primes[counter] == 0:\n",
        "      a /= primes[counter]\n",
        "      alist.append(primes[counter])\n",
        "    else:\n",
        "      counter += 1\n",
        "  counter = 0\n",
        "  while b != 1:\n",
        "    if b % primes[counter] == 0:\n",
        "      b /= primes[counter]\n",
        "      blist.append(primes[counter])\n",
        "    else:\n",
        "      counter += 1\n",
        "  #blist = [*set(blist)] #to remove duplicates\n",
        "  for a in alist:\n",
        "    for b in blist:\n",
        "      if a == b:\n",
        "        var.append(b)\n",
        "  for j in alist:\n",
        "    if j not in adict:\n",
        "      adict[j] = 1\n",
        "    else:\n",
        "      adict[j]+=1\n",
        "  for i in blist:\n",
        "    if i not in bdict:\n",
        "      bdict[i] = 1\n",
        "    else:\n",
        "      bdict[i]+= 1\n",
        "  for prime in primes:\n",
        "    if prime in alist and prime in blist:\n",
        "      if adict[prime] < bdict[prime]:\n",
        "        commonprimes[prime] = adict[prime]\n",
        "      else:\n",
        "        commonprimes[prime] = bdict[prime]\n",
        "  for prime in commonprimes:\n",
        "    V1.append(int(prime) * int(commonprimes[prime]))\n",
        "  V2 = reduce((lambda x, y: x * y), V1)\n",
        "  return V2\n",
        "\n",
        "minosprime(10,25)"
      ]
    },
    {
      "cell_type": "code",
      "source": [
        "#dry run of main function\n",
        "\n",
        "from functools import reduce\n",
        "alist = [2,2,3,3]\n",
        "blist = [2,3,13]\n",
        "adict = {}\n",
        "bdict = {}\n",
        "primes = [2, 3, 5, 7, 11, 13, 17, 19, 23, 29, 31, 37, 41, 43, 47, 53, 59, 61, 67, 71, 73, 79, 83, 89, 97]\n",
        "commonprimes = {}\n",
        "V1 = []\n",
        "\n",
        "for j in alist:\n",
        "  if j not in adict:\n",
        "    adict[j] = 1\n",
        "  else:\n",
        "    adict[j]+=1\n",
        "for i in blist:\n",
        "  if i not in bdict:\n",
        "    bdict[i] = 1\n",
        "  else:\n",
        "    bdict[i]+= 1\n",
        "print(adict,bdict)\n",
        "for prime in primes:\n",
        "  if prime in alist and prime in blist:\n",
        "    if adict[prime] < bdict[prime]:\n",
        "      commonprimes[prime] = adict[prime]\n",
        "    else:\n",
        "      commonprimes[prime] = bdict[prime]\n",
        "for prime in commonprimes:\n",
        "  V1.append(int(prime) * int(commonprimes[prime]))\n",
        "V2 = reduce((lambda x, y: x * y), V1)\n",
        "\n",
        "print(V2)\n",
        "#1. Check for primes which exist in both dictionaries\n",
        "#2. Make a dictionary to store the values of common primes!\n",
        "#3. Check for the value of the first common prime in adict first, save it to the variable (e.g. 2: 2)\n",
        "#4. Check for the value of the same common prime in bdict\n",
        "#4.1 If the value in bdict is lower than in adict, save this new value to the variable instead of the old value!\n",
        "#4.2 If the opposite is true, or the value is the same, keep the old value\n",
        "#5. Make a new variable, this will be the ultimate list for all common, duplicate-fixed primes.\n",
        "#6. Append the common primes found before to this variable, with the number of duplicates being the value saved\n",
        "#   to the dictionary which stores the values of the common primes"
      ],
      "metadata": {
        "colab": {
          "base_uri": "https://localhost:8080/"
        },
        "id": "h6UTLO3Lc4TR",
        "outputId": "4530f771-f76e-4c05-e4fb-42e7c3074737"
      },
      "id": "h6UTLO3Lc4TR",
      "execution_count": null,
      "outputs": [
        {
          "output_type": "stream",
          "name": "stdout",
          "text": [
            "{2: 2, 3: 2} {2: 1, 3: 1, 13: 1}\n",
            "6\n"
          ]
        }
      ]
    },
    {
      "cell_type": "markdown",
      "id": "259e27d5",
      "metadata": {
        "id": "259e27d5"
      },
      "source": [
        "### Merge Sort\n",
        "\n",
        "Write the function `merge_sort(arr)` that sorts the input array in ascending order\n",
        "\n",
        "\n",
        "Merge sort is one of the most efficient sorting algorithms. It works on the principle of Divide and Conquers. Merge sort **repeatedly breaks down a list into several sublists** until each sublist consists of a single element and merges those sublists in a manner that results in a sorted list.\n",
        "\n",
        "https://www.programiz.com/sites/tutorial2program/files/merge-sort-example_0.png\n",
        "\n",
        "Example 1:\n",
        "```\n",
        "Input Array :\n",
        "[8, 3, 5, 1, 2, 7, 6, 9]\n",
        "\n",
        "\n",
        "Return Sorted Array :\n",
        "[1, 2, 3, 5, 6, 7, 8, 9]\n",
        "```"
      ]
    },
    {
      "cell_type": "code",
      "source": [
        "#test solution\n",
        "to_sort = [6,5,12,10,9,1]\n",
        "num = [6,1]\n",
        "vipnum = 0\n",
        "final = []\n",
        "\n",
        "def sorter(num):\n",
        "  var = []\n",
        "  if len(num) == 1:\n",
        "    return num\n",
        "  if len(num) == 2:\n",
        "    if num[0] > num[1]:\n",
        "      num.append(num[0])\n",
        "      num.pop(0)\n",
        "      return num\n",
        "    else:\n",
        "      return num\n",
        "\n",
        "def advsorter(num):\n",
        "  listt = [0]\n",
        "  for i in num:\n",
        "    for idx,value in enumerate(listt):\n",
        "      if i > listt[-1]:\n",
        "        listt += i\n",
        "      elif i == listt[value]:\n",
        "        listt.insert(i,idx)\n",
        "      elif i < listt[0]:\n",
        "        listt.insert(i,0)\n",
        "  return listt\n",
        "\n",
        "def mergesort(sorting):\n",
        "  final = []\n",
        "  solved = []\n",
        "  if len(sorting) % 2 == 0:\n",
        "    for i in range(0,len(sorting),2):\n",
        "      var = [sorting[i], sorting[i+1]]\n",
        "      final += sorter(var)\n",
        "      var = []\n",
        "  if len(sorting) % 2 != 0:\n",
        "    vipnum = sorting.pop(0)\n",
        "    for i in range(0,len(sorting),2):\n",
        "      var = [sorting[i], sorting[i+1]]\n",
        "      final += sorter(var)\n",
        "      var = []\n",
        "  print(final)\n",
        "\n",
        "[6,5,12,10,9,1,13]\n",
        "mergesort(to_sort)"
      ],
      "metadata": {
        "colab": {
          "base_uri": "https://localhost:8080/"
        },
        "id": "2WD3ZWa1pcEs",
        "outputId": "fb4112b8-8bcc-44c3-ed7a-e1e827249ecd"
      },
      "id": "2WD3ZWa1pcEs",
      "execution_count": null,
      "outputs": [
        {
          "output_type": "stream",
          "name": "stdout",
          "text": [
            "[5, 6, 10, 12, 1, 9]\n"
          ]
        }
      ]
    },
    {
      "cell_type": "code",
      "source": [
        "#recursion solution\n",
        "def recurr(listt):\n",
        "  if len(listt) == 0 or len(listt) == 1:\n",
        "    return listt\n",
        "  #break list down into halves\n",
        "  list1 = listt[0:len(listt) // 2]\n",
        "  list2 = listt[len(listt) // 2:]\n",
        "  sortedlist1 = recurr(list1)\n",
        "  sortedlist2 = recurr(list2)\n",
        "  #return list1,list2, 'Lists'\n",
        "  return sort(sortedlist1,sortedlist2)\n",
        "\n",
        "\n",
        "def sort(list1,list2):\n",
        "  lenn = len(list1) + len(list2)\n",
        "  final = []\n",
        "  while len(final) != lenn:\n",
        "    if list1 == []:\n",
        "      final += list2\n",
        "      break\n",
        "    elif list2 == []:\n",
        "      final += list1\n",
        "      break\n",
        "    if list1[0] > list2[0]:\n",
        "      final.append(list2.pop(0))\n",
        "    elif list1[0] < list2[0]:\n",
        "      final.append(list1.pop(0))\n",
        "    elif list1[0] == list2[0]:\n",
        "      final += list1.pop(0); final += list2.pop(0)\n",
        "  return final\n",
        "\n",
        "#Fix function only giving [1] as answer\n",
        "\n",
        "\n",
        "recurr([1.2, 1.4, 9.6, 6.4])"
      ],
      "metadata": {
        "id": "Fwwr7HDirnWa",
        "colab": {
          "base_uri": "https://localhost:8080/"
        },
        "outputId": "5340d3c9-dc82-4a06-f274-3d4e4c1deda7"
      },
      "id": "Fwwr7HDirnWa",
      "execution_count": null,
      "outputs": [
        {
          "output_type": "execute_result",
          "data": {
            "text/plain": [
              "[1.2, 1.4, 6.4, 9.6]"
            ]
          },
          "metadata": {},
          "execution_count": 6
        }
      ]
    }
  ],
  "metadata": {
    "kernelspec": {
      "display_name": "Python 3 (ipykernel)",
      "language": "python",
      "name": "python3"
    },
    "language_info": {
      "codemirror_mode": {
        "name": "ipython",
        "version": 3
      },
      "file_extension": ".py",
      "mimetype": "text/x-python",
      "name": "python",
      "nbconvert_exporter": "python",
      "pygments_lexer": "ipython3",
      "version": "3.9.6"
    },
    "colab": {
      "provenance": []
    }
  },
  "nbformat": 4,
  "nbformat_minor": 5
}